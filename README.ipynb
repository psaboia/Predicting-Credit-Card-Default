{
 "cells": [
  {
   "cell_type": "markdown",
   "id": "ac324575",
   "metadata": {},
   "source": [
    "# Predicting Credit Card Default\n",
    "This code was part of CSE 60647, Fall 2021, University of Notre Dame. \n",
    "_______________________________________________\n",
    "\n",
    "### Authors:\n",
    "- Tony Alarcon {palarcon@nd.edu}\n",
    "- Katherine Dearstyne {kdearsty@nd.edu}\n",
    "- Priscila Moreira {pmoreira@nd.edu}\n",
    "\n",
    "_______________________________________________\n",
    "\n",
    "###  Dataset \n",
    "\n",
    "The data used in this project was compiled by Yei and Lien[1] for analyzing customer defaults on credit card payments in Taiwan. \n",
    "\n",
    "It was obtained from UCI ML respiratory[2].\n",
    "\n",
    "Download the data [here](default.xls)\n",
    "\n",
    "_______________________________________________\n",
    "\n",
    "### Solution\n",
    "\n",
    "The code is in four parts: \n",
    "- [Preliminary Analysis and Preparation of Data](./data_preparation.ipynb)\n",
    "- [Model Development: Exploring methods](./model_training.ipynb)\n",
    "- [Model Development with Cross-Validation](./model_training_crossval.ipynb)\n",
    "- [Best Model Analysis](./model_analysis.ipynb)\n",
    "\n",
    "Requirements to run the scripts:\n",
    "- imblearn\n",
    "- xlrd\n",
    "- matplotlib\n",
    "- sklearn\n",
    "- pandas\n",
    "- seaborn\n",
    "_______________________________________________\n",
    "\n",
    "### Resulting Documents \n",
    "\n",
    "- [Paper](./Final_Paper_for_DS_Project___Credit_Card.pdf)\n",
    "- [Presentation](./Presentation-Team9-Business-Loan.mp4)\n",
    "\n",
    "_______________________________________________\n",
    "\n",
    "### References\n",
    "\n",
    "[1]-Cheng Yeh and Che hui Lien. 2009. *The comparisons of data mining techniques\n",
    "for the predictive accuracy of probability of default of credit card clients*. Expert\n",
    "Systems with Applications 36 (2009), 2473–2480\n",
    "\n",
    "[2] 2016. *Default of credit card clients*. UCI Machine Learning Repository.\n",
    "[https://archive.ics.uci.edu/ml/datasets/default+of+credit+card+clients](https://archive.ics.uci.edu/ml/datasets/default+of+credit+card+clients)\n",
    "\n"
   ]
  },
  {
   "cell_type": "code",
   "execution_count": null,
   "id": "4faa90be",
   "metadata": {},
   "outputs": [],
   "source": []
  }
 ],
 "metadata": {
  "kernelspec": {
   "display_name": "Python 3",
   "language": "python",
   "name": "python3"
  },
  "language_info": {
   "codemirror_mode": {
    "name": "ipython",
    "version": 3
   },
   "file_extension": ".py",
   "mimetype": "text/x-python",
   "name": "python",
   "nbconvert_exporter": "python",
   "pygments_lexer": "ipython3",
   "version": "3.8.8"
  }
 },
 "nbformat": 4,
 "nbformat_minor": 5
}
