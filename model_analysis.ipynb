{
 "cells": [
  {
   "cell_type": "markdown",
   "id": "215d480a",
   "metadata": {},
   "source": [
    "---\n",
    "\n",
    "# Predicting Credit Card Default\n",
    "\n",
    "### Best Model Analysis\n",
    "\n",
    "---"
   ]
  },
  {
   "cell_type": "markdown",
   "id": "3447ff1f",
   "metadata": {},
   "source": [
    "# Loading  preprocessed data\n",
    "\n",
    "Note: \n",
    "Open <a href=\"./data_preparation.ipynb\">data_preparation.ipynb</a> to see how the data was preprocessed. "
   ]
  },
  {
   "cell_type": "code",
   "execution_count": 1,
   "id": "5a734949",
   "metadata": {},
   "outputs": [
    {
     "data": {
      "text/html": [
       "<div>\n",
       "<style scoped>\n",
       "    .dataframe tbody tr th:only-of-type {\n",
       "        vertical-align: middle;\n",
       "    }\n",
       "\n",
       "    .dataframe tbody tr th {\n",
       "        vertical-align: top;\n",
       "    }\n",
       "\n",
       "    .dataframe thead th {\n",
       "        text-align: right;\n",
       "    }\n",
       "</style>\n",
       "<table border=\"1\" class=\"dataframe\">\n",
       "  <thead>\n",
       "    <tr style=\"text-align: right;\">\n",
       "      <th></th>\n",
       "      <th>LIMIT_BAL</th>\n",
       "      <th>SEX</th>\n",
       "      <th>EDUCATION</th>\n",
       "      <th>MARRIAGE</th>\n",
       "      <th>AGE</th>\n",
       "      <th>PAY_0</th>\n",
       "      <th>PAY_2</th>\n",
       "      <th>PAY_3</th>\n",
       "      <th>PAY_4</th>\n",
       "      <th>PAY_5</th>\n",
       "      <th>...</th>\n",
       "      <th>BILL_AMT4</th>\n",
       "      <th>BILL_AMT5</th>\n",
       "      <th>BILL_AMT6</th>\n",
       "      <th>PAY_AMT1</th>\n",
       "      <th>PAY_AMT2</th>\n",
       "      <th>PAY_AMT3</th>\n",
       "      <th>PAY_AMT4</th>\n",
       "      <th>PAY_AMT5</th>\n",
       "      <th>PAY_AMT6</th>\n",
       "      <th>DEFAULT</th>\n",
       "    </tr>\n",
       "  </thead>\n",
       "  <tbody>\n",
       "    <tr>\n",
       "      <th>0</th>\n",
       "      <td>20000.0</td>\n",
       "      <td>2.0</td>\n",
       "      <td>2.0</td>\n",
       "      <td>1.0</td>\n",
       "      <td>24</td>\n",
       "      <td>2</td>\n",
       "      <td>2.0</td>\n",
       "      <td>-1.0</td>\n",
       "      <td>-1.0</td>\n",
       "      <td>-2.0</td>\n",
       "      <td>...</td>\n",
       "      <td>0.0</td>\n",
       "      <td>0.0</td>\n",
       "      <td>0.0</td>\n",
       "      <td>0.0</td>\n",
       "      <td>689.0</td>\n",
       "      <td>0.0</td>\n",
       "      <td>0.0</td>\n",
       "      <td>0.0</td>\n",
       "      <td>0.0</td>\n",
       "      <td>1.0</td>\n",
       "    </tr>\n",
       "    <tr>\n",
       "      <th>1</th>\n",
       "      <td>120000.0</td>\n",
       "      <td>2.0</td>\n",
       "      <td>2.0</td>\n",
       "      <td>2.0</td>\n",
       "      <td>26</td>\n",
       "      <td>-1</td>\n",
       "      <td>2.0</td>\n",
       "      <td>0.0</td>\n",
       "      <td>0.0</td>\n",
       "      <td>0.0</td>\n",
       "      <td>...</td>\n",
       "      <td>3272.0</td>\n",
       "      <td>3455.0</td>\n",
       "      <td>3261.0</td>\n",
       "      <td>0.0</td>\n",
       "      <td>1000.0</td>\n",
       "      <td>1000.0</td>\n",
       "      <td>1000.0</td>\n",
       "      <td>0.0</td>\n",
       "      <td>2000.0</td>\n",
       "      <td>1.0</td>\n",
       "    </tr>\n",
       "    <tr>\n",
       "      <th>2</th>\n",
       "      <td>90000.0</td>\n",
       "      <td>2.0</td>\n",
       "      <td>2.0</td>\n",
       "      <td>2.0</td>\n",
       "      <td>34</td>\n",
       "      <td>0</td>\n",
       "      <td>0.0</td>\n",
       "      <td>0.0</td>\n",
       "      <td>0.0</td>\n",
       "      <td>0.0</td>\n",
       "      <td>...</td>\n",
       "      <td>14331.0</td>\n",
       "      <td>14948.0</td>\n",
       "      <td>15549.0</td>\n",
       "      <td>1518.0</td>\n",
       "      <td>1500.0</td>\n",
       "      <td>1000.0</td>\n",
       "      <td>1000.0</td>\n",
       "      <td>1000.0</td>\n",
       "      <td>5000.0</td>\n",
       "      <td>0.0</td>\n",
       "    </tr>\n",
       "    <tr>\n",
       "      <th>3</th>\n",
       "      <td>50000.0</td>\n",
       "      <td>2.0</td>\n",
       "      <td>2.0</td>\n",
       "      <td>1.0</td>\n",
       "      <td>37</td>\n",
       "      <td>0</td>\n",
       "      <td>0.0</td>\n",
       "      <td>0.0</td>\n",
       "      <td>0.0</td>\n",
       "      <td>0.0</td>\n",
       "      <td>...</td>\n",
       "      <td>28314.0</td>\n",
       "      <td>28959.0</td>\n",
       "      <td>29547.0</td>\n",
       "      <td>2000.0</td>\n",
       "      <td>2019.0</td>\n",
       "      <td>1200.0</td>\n",
       "      <td>1100.0</td>\n",
       "      <td>1069.0</td>\n",
       "      <td>1000.0</td>\n",
       "      <td>0.0</td>\n",
       "    </tr>\n",
       "    <tr>\n",
       "      <th>4</th>\n",
       "      <td>50000.0</td>\n",
       "      <td>1.0</td>\n",
       "      <td>2.0</td>\n",
       "      <td>1.0</td>\n",
       "      <td>57</td>\n",
       "      <td>-1</td>\n",
       "      <td>0.0</td>\n",
       "      <td>-1.0</td>\n",
       "      <td>0.0</td>\n",
       "      <td>0.0</td>\n",
       "      <td>...</td>\n",
       "      <td>20940.0</td>\n",
       "      <td>19146.0</td>\n",
       "      <td>19131.0</td>\n",
       "      <td>2000.0</td>\n",
       "      <td>36681.0</td>\n",
       "      <td>10000.0</td>\n",
       "      <td>9000.0</td>\n",
       "      <td>689.0</td>\n",
       "      <td>679.0</td>\n",
       "      <td>0.0</td>\n",
       "    </tr>\n",
       "    <tr>\n",
       "      <th>5</th>\n",
       "      <td>50000.0</td>\n",
       "      <td>1.0</td>\n",
       "      <td>1.0</td>\n",
       "      <td>2.0</td>\n",
       "      <td>37</td>\n",
       "      <td>0</td>\n",
       "      <td>0.0</td>\n",
       "      <td>0.0</td>\n",
       "      <td>0.0</td>\n",
       "      <td>0.0</td>\n",
       "      <td>...</td>\n",
       "      <td>19394.0</td>\n",
       "      <td>19619.0</td>\n",
       "      <td>20024.0</td>\n",
       "      <td>2500.0</td>\n",
       "      <td>1815.0</td>\n",
       "      <td>657.0</td>\n",
       "      <td>1000.0</td>\n",
       "      <td>1000.0</td>\n",
       "      <td>800.0</td>\n",
       "      <td>0.0</td>\n",
       "    </tr>\n",
       "    <tr>\n",
       "      <th>6</th>\n",
       "      <td>500000.0</td>\n",
       "      <td>1.0</td>\n",
       "      <td>1.0</td>\n",
       "      <td>2.0</td>\n",
       "      <td>29</td>\n",
       "      <td>0</td>\n",
       "      <td>0.0</td>\n",
       "      <td>0.0</td>\n",
       "      <td>0.0</td>\n",
       "      <td>0.0</td>\n",
       "      <td>...</td>\n",
       "      <td>542653.0</td>\n",
       "      <td>483003.0</td>\n",
       "      <td>473944.0</td>\n",
       "      <td>55000.0</td>\n",
       "      <td>40000.0</td>\n",
       "      <td>38000.0</td>\n",
       "      <td>20239.0</td>\n",
       "      <td>13750.0</td>\n",
       "      <td>13770.0</td>\n",
       "      <td>0.0</td>\n",
       "    </tr>\n",
       "    <tr>\n",
       "      <th>7</th>\n",
       "      <td>100000.0</td>\n",
       "      <td>2.0</td>\n",
       "      <td>2.0</td>\n",
       "      <td>2.0</td>\n",
       "      <td>23</td>\n",
       "      <td>0</td>\n",
       "      <td>-1.0</td>\n",
       "      <td>-1.0</td>\n",
       "      <td>0.0</td>\n",
       "      <td>0.0</td>\n",
       "      <td>...</td>\n",
       "      <td>221.0</td>\n",
       "      <td>-159.0</td>\n",
       "      <td>567.0</td>\n",
       "      <td>380.0</td>\n",
       "      <td>601.0</td>\n",
       "      <td>0.0</td>\n",
       "      <td>581.0</td>\n",
       "      <td>1687.0</td>\n",
       "      <td>1542.0</td>\n",
       "      <td>0.0</td>\n",
       "    </tr>\n",
       "    <tr>\n",
       "      <th>8</th>\n",
       "      <td>140000.0</td>\n",
       "      <td>2.0</td>\n",
       "      <td>3.0</td>\n",
       "      <td>1.0</td>\n",
       "      <td>28</td>\n",
       "      <td>0</td>\n",
       "      <td>0.0</td>\n",
       "      <td>2.0</td>\n",
       "      <td>0.0</td>\n",
       "      <td>0.0</td>\n",
       "      <td>...</td>\n",
       "      <td>12211.0</td>\n",
       "      <td>11793.0</td>\n",
       "      <td>3719.0</td>\n",
       "      <td>3329.0</td>\n",
       "      <td>0.0</td>\n",
       "      <td>432.0</td>\n",
       "      <td>1000.0</td>\n",
       "      <td>1000.0</td>\n",
       "      <td>1000.0</td>\n",
       "      <td>0.0</td>\n",
       "    </tr>\n",
       "    <tr>\n",
       "      <th>9</th>\n",
       "      <td>20000.0</td>\n",
       "      <td>1.0</td>\n",
       "      <td>3.0</td>\n",
       "      <td>2.0</td>\n",
       "      <td>35</td>\n",
       "      <td>-2</td>\n",
       "      <td>-2.0</td>\n",
       "      <td>-2.0</td>\n",
       "      <td>-2.0</td>\n",
       "      <td>-1.0</td>\n",
       "      <td>...</td>\n",
       "      <td>0.0</td>\n",
       "      <td>13007.0</td>\n",
       "      <td>13912.0</td>\n",
       "      <td>0.0</td>\n",
       "      <td>0.0</td>\n",
       "      <td>0.0</td>\n",
       "      <td>13007.0</td>\n",
       "      <td>1122.0</td>\n",
       "      <td>0.0</td>\n",
       "      <td>0.0</td>\n",
       "    </tr>\n",
       "  </tbody>\n",
       "</table>\n",
       "<p>10 rows × 24 columns</p>\n",
       "</div>"
      ],
      "text/plain": [
       "   LIMIT_BAL  SEX  EDUCATION  MARRIAGE  AGE  PAY_0  PAY_2  PAY_3  PAY_4  \\\n",
       "0    20000.0  2.0        2.0       1.0   24      2    2.0   -1.0   -1.0   \n",
       "1   120000.0  2.0        2.0       2.0   26     -1    2.0    0.0    0.0   \n",
       "2    90000.0  2.0        2.0       2.0   34      0    0.0    0.0    0.0   \n",
       "3    50000.0  2.0        2.0       1.0   37      0    0.0    0.0    0.0   \n",
       "4    50000.0  1.0        2.0       1.0   57     -1    0.0   -1.0    0.0   \n",
       "5    50000.0  1.0        1.0       2.0   37      0    0.0    0.0    0.0   \n",
       "6   500000.0  1.0        1.0       2.0   29      0    0.0    0.0    0.0   \n",
       "7   100000.0  2.0        2.0       2.0   23      0   -1.0   -1.0    0.0   \n",
       "8   140000.0  2.0        3.0       1.0   28      0    0.0    2.0    0.0   \n",
       "9    20000.0  1.0        3.0       2.0   35     -2   -2.0   -2.0   -2.0   \n",
       "\n",
       "   PAY_5  ...  BILL_AMT4  BILL_AMT5  BILL_AMT6  PAY_AMT1  PAY_AMT2  PAY_AMT3  \\\n",
       "0   -2.0  ...        0.0        0.0        0.0       0.0     689.0       0.0   \n",
       "1    0.0  ...     3272.0     3455.0     3261.0       0.0    1000.0    1000.0   \n",
       "2    0.0  ...    14331.0    14948.0    15549.0    1518.0    1500.0    1000.0   \n",
       "3    0.0  ...    28314.0    28959.0    29547.0    2000.0    2019.0    1200.0   \n",
       "4    0.0  ...    20940.0    19146.0    19131.0    2000.0   36681.0   10000.0   \n",
       "5    0.0  ...    19394.0    19619.0    20024.0    2500.0    1815.0     657.0   \n",
       "6    0.0  ...   542653.0   483003.0   473944.0   55000.0   40000.0   38000.0   \n",
       "7    0.0  ...      221.0     -159.0      567.0     380.0     601.0       0.0   \n",
       "8    0.0  ...    12211.0    11793.0     3719.0    3329.0       0.0     432.0   \n",
       "9   -1.0  ...        0.0    13007.0    13912.0       0.0       0.0       0.0   \n",
       "\n",
       "   PAY_AMT4  PAY_AMT5  PAY_AMT6  DEFAULT  \n",
       "0       0.0       0.0       0.0      1.0  \n",
       "1    1000.0       0.0    2000.0      1.0  \n",
       "2    1000.0    1000.0    5000.0      0.0  \n",
       "3    1100.0    1069.0    1000.0      0.0  \n",
       "4    9000.0     689.0     679.0      0.0  \n",
       "5    1000.0    1000.0     800.0      0.0  \n",
       "6   20239.0   13750.0   13770.0      0.0  \n",
       "7     581.0    1687.0    1542.0      0.0  \n",
       "8    1000.0    1000.0    1000.0      0.0  \n",
       "9   13007.0    1122.0       0.0      0.0  \n",
       "\n",
       "[10 rows x 24 columns]"
      ]
     },
     "execution_count": 1,
     "metadata": {},
     "output_type": "execute_result"
    }
   ],
   "source": [
    "import pandas as pd\n",
    "import numpy as np\n",
    "import imblearn #libary for imbalanced functions i.e. K-means SMOTE\n",
    "from sklearn import preprocessing\n",
    "\n",
    "#from google.colab import drive\n",
    "#drive.mount('/content/drive')\n",
    "# filename = \"drive/Shareddrives/DS-project/default_processed.csv\"\n",
    "\n",
    "filename = \"default_processed.csv\"\n",
    "data = pd.read_csv(filename)\n",
    "data.head(10)"
   ]
  },
  {
   "cell_type": "markdown",
   "id": "03e722a5",
   "metadata": {},
   "source": [
    "# Validation Set Partitioning"
   ]
  },
  {
   "cell_type": "markdown",
   "id": "3cf039da",
   "metadata": {},
   "source": [
    "### K-fold Cross Validation \n",
    "\n",
    "In order to ascertain a standard deviation and investigate the optimal hyperparameters for each model, we will employ stratified k-fold cross-validation. This algorithm will split our dataset into k consecutive folds in a startefied manner such that it preserves the same target class distribution."
   ]
  },
  {
   "cell_type": "code",
   "execution_count": 2,
   "id": "aa0a6643",
   "metadata": {},
   "outputs": [
    {
     "name": "stdout",
     "output_type": "stream",
     "text": [
      "StratifiedKFold(n_splits=5, random_state=None, shuffle=False)\n",
      "TRAIN: [ 5983  5984  5985 ... 29997 29998 29999] Test: [   0    1    2 ... 6044 6045 6047]\n",
      "TRAIN: [    0     1     2 ... 29997 29998 29999] Test: [ 5983  5984  5985 ... 12048 12049 12050]\n",
      "TRAIN: [    0     1     2 ... 29997 29998 29999] Test: [11793 11794 11796 ... 18220 18222 18223]\n",
      "TRAIN: [    0     1     2 ... 29997 29998 29999] Test: [17312 17315 17316 ... 24072 24073 24074]\n",
      "TRAIN: [    0     1     2 ... 24072 24073 24074] Test: [23688 23691 23696 ... 29997 29998 29999]\n"
     ]
    },
    {
     "name": "stderr",
     "output_type": "stream",
     "text": [
      "/home/priscila/anaconda3/lib/python3.8/site-packages/sklearn/utils/validation.py:63: DataConversionWarning: A column-vector y was passed when a 1d array was expected. Please change the shape of y to (n_samples, ), for example using ravel().\n",
      "  return f(*args, **kwargs)\n"
     ]
    }
   ],
   "source": [
    "from sklearn.model_selection import KFold\n",
    "from sklearn.model_selection import StratifiedKFold\n",
    "\n",
    "features = data.iloc[:, :-1] #acquire all rows, and all columns except for last one (label)\n",
    "label = data.iloc[:,[-1]] #assignt to frame with all rows and the last column (label)\n",
    "\n",
    "label = preprocessing.LabelEncoder().fit_transform(label)\n",
    "\n",
    "skf5 = StratifiedKFold(n_splits = 5)\n",
    "skf5.get_n_splits(features, label)\n",
    "\n",
    "print(skf5)\n",
    "for train_index, test_index in skf5.split(features, label):\n",
    "    print(\"TRAIN:\", train_index, \"Test:\", test_index)"
   ]
  },
  {
   "cell_type": "markdown",
   "id": "de9fbe3f",
   "metadata": {},
   "source": [
    "The below function takes in as parameters a scikit-learn model (decision tree,random forest, etc..), the features and labels for a sklearn cross validation model which contains the indexes of each training and testing at each fold. \n",
    "\n",
    "It will print out the Accuracy, F1 Macro, Recall and Precision (averaged over all folds) along with their standard deviation."
   ]
  },
  {
   "cell_type": "code",
   "execution_count": 3,
   "id": "439b6686",
   "metadata": {},
   "outputs": [],
   "source": [
    "from sklearn.model_selection import cross_validate, cross_val_score, cross_val_predict\n",
    "from numpy import mean, std\n",
    "\n",
    "def skf(model, features, labels, cv):\n",
    "\n",
    "    metrics = ['precision_weighted', 'recall_weighted', 'accuracy', 'f1', 'f1_micro', 'f1_macro', 'f1_weighted']\n",
    "    scores = cross_validate(model, features, labels, scoring=metrics, cv=cv)                          \n",
    "    \n",
    "    # uncomment to see the original names\n",
    "    # print([name for name in scores if 'time' not in name])\n",
    "    \n",
    "    metric_pretty_names = ['Precision', 'Recall', 'Accuracy', 'F1', 'F1 Micro', 'F1 Macro', 'F1 Weighted'] \n",
    "    score_data = {'mean': [mean(scores[s]) for s in scores if 'time' not in s],\n",
    "                   'std'  : [std(scores[s]) for s in scores if 'time' not in s]} \n",
    "    \n",
    "    scores_df = pd.DataFrame(score_data, index=metric_pretty_names)\n",
    "    \n",
    "    return scores_df"
   ]
  },
  {
   "cell_type": "markdown",
   "id": "496e7faa",
   "metadata": {},
   "source": [
    "# Model Analyses\n",
    "---"
   ]
  },
  {
   "cell_type": "markdown",
   "id": "bcbe09e8",
   "metadata": {},
   "source": [
    "\n",
    "## Top 3 Model Performance Rankings (Macro F1 Score)\n",
    "\n",
    "- **Random Forest** (SMOTE Dataset) - .690 +/- .020\n",
    "- **Neural Network** (Original Dataset) - .683 +/- .012 \n",
    "- **SVM with RBF Kernel** (Original Dataset)  - .670 +/- 0.016"
   ]
  },
  {
   "cell_type": "markdown",
   "id": "91d0a1e9",
   "metadata": {},
   "source": [
    "Auxiliar Functions"
   ]
  },
  {
   "cell_type": "code",
   "execution_count": 11,
   "id": "8d70b53b",
   "metadata": {},
   "outputs": [],
   "source": [
    "import matplotlib.pyplot as plt\n",
    "from imblearn.over_sampling import SMOTENC\n",
    "from sklearn.metrics import recall_score\n",
    "from imblearn.pipeline import Pipeline, make_pipeline\n",
    "from sklearn.model_selection import RandomizedSearchCV\n",
    "from sklearn.metrics import *\n",
    "import seaborn as sns\n",
    "\n",
    "\n",
    "def add_group_feature(df, feature_name, new_feature_name, group_name, group_ranges):\n",
    "    \n",
    "    df[new_feature_name] = [group_name[i]  for value in df[feature_name] \n",
    "                                     for i,r in enumerate(group_ranges) \n",
    "                                         if value in range(r[0], r[1])]\n",
    "    return data\n",
    "\n",
    "def plot_bar_by_feature_group(X0, X1, info_plot):\n",
    "    sns.set(rc={'figure.figsize':(10.0,4.0)})  \n",
    "    n=len(X0)\n",
    "    r = np.arange(n)\n",
    "    width = 0.25\n",
    "\n",
    "    plt.bar(r, X0, color = 'b',\n",
    "            width = width, edgecolor = 'black',\n",
    "            label=info_plot['label0'])\n",
    "    plt.bar(r + width, X1, color = sns.color_palette()[1],\n",
    "            width = width, edgecolor = 'black',\n",
    "            label=info_plot['label1'])\n",
    "\n",
    "    plt.xlabel(info_plot['xlabel'])\n",
    "    plt.ylabel(info_plot['ylabel'])\n",
    "    plt.title(info_plot['title'])\n",
    "\n",
    "    plt.grid(linestyle='--')\n",
    "    txt_label = info_plot['txt_label']\n",
    "    plt.xticks(r + width/2,txt_label)\n",
    "    plt.legend()\n",
    "\n",
    "    plt.show()\n",
    "\n",
    "    plt.savefig(info_plot['path_to_save'])\n",
    "\n",
    "\n",
    "# grouping age\n",
    "feature_name = 'AGE'\n",
    "new_feature_name = 'AGE_GROUP'\n",
    "\n",
    "group_range_AGE = [(0,25), (25,35) ,(35,45) ,(45,55) , (55,150)]\n",
    "group_name_AGE = (['Youth (<25)', 'Young Adults (25-34)', 'Adults (35-44)', 'Adults+ (45-54)','Seniors (55,64+)'])\n",
    "\n",
    "data = add_group_feature(data, feature_name, new_feature_name, group_name_AGE, group_range_AGE)"
   ]
  },
  {
   "cell_type": "markdown",
   "id": "1a82baf3",
   "metadata": {},
   "source": [
    "## Random Forest"
   ]
  },
  {
   "cell_type": "code",
   "execution_count": 4,
   "id": "44920fa6",
   "metadata": {},
   "outputs": [],
   "source": [
    "from sklearn.ensemble import RandomForestClassifier\n",
    "from sklearn.model_selection import cross_validate\n",
    "from sklearn import metrics\n",
    "from numpy import mean\n",
    "from numpy import std\n",
    "\n",
    "forest_params = {\n",
    "    'n_estimators': [10, 50, 100, 500],\n",
    "    'max_depth': [1, 3, 5, 7],\n",
    "    'min_samples_split': [2, 4, 6, 8],\n",
    "    'min_samples_leaf': [1, 2, 4, 6],\n",
    "    'criterion': ['gini', 'entropy'],\n",
    "    'max_features': ['auto', 'sqrt', 'log2']\n",
    "}\n",
    "\n",
    "\"\"\"\n",
    "Chosen hyperparameters: \n",
    "n_estimators = 500\n",
    "max_depth = 7\n",
    "min_samples_split = 8\n",
    "min_samples_leaf = 2\n",
    "criterion = gini\n",
    "max_features = sqrt\n",
    "\"\"\"\n",
    "\n",
    "forest = RandomForestClassifier(n_estimators=500, max_depth=7, min_samples_split=8, min_samples_leaf=2, criterion='gini', max_features='sqrt')\n"
   ]
  },
  {
   "cell_type": "markdown",
   "id": "9b23cda9",
   "metadata": {},
   "source": [
    "### Random Forest: original data"
   ]
  },
  {
   "cell_type": "code",
   "execution_count": 7,
   "id": "c8f13fae",
   "metadata": {},
   "outputs": [
    {
     "data": {
      "text/plain": [
       "0.6756253711747061"
      ]
     },
     "execution_count": 7,
     "metadata": {},
     "output_type": "execute_result"
    }
   ],
   "source": [
    "y_pred_forest_original = cross_val_predict(forest, X=features, y=label, cv=skf5, method='predict', n_jobs=5)\n",
    "metrics.f1_score(label, y_pred_forest_original, average='macro')\n",
    "\n",
    "data['y_pred_forest_original'] = y_pred_forest_original"
   ]
  },
  {
   "cell_type": "code",
   "execution_count": 9,
   "id": "ac1384c1",
   "metadata": {},
   "outputs": [
    {
     "name": "stdout",
     "output_type": "stream",
     "text": [
      "Youth (<25) 0.6919347277044297 2685\n",
      "Young Adults (25-34) 0.672202567566915 13011\n",
      "Adults (35-44) 0.6753756444278733 9018\n",
      "Adults+ (45-54) 0.666069691398869 4233\n",
      "Seniors (55,64+) 0.6771459544693013 1053\n"
     ]
    }
   ],
   "source": [
    "df = data\n",
    "class1_R = []\n",
    "class0_R = []\n",
    "class1_P = []\n",
    "class0_P = []\n",
    "class1_percent = []\n",
    "\n",
    "for name in group_name_AGE:     \n",
    "    data_by_age = df[df['AGE_GROUP']  == name]    \n",
    "    y_true = data_by_age['DEFAULT']\n",
    "    y_pred = data_by_age['y_pred_forest_original']\n",
    "    \n",
    "    f1macro = metrics.f1_score(y_true, y_pred, average='macro')          \n",
    "    print(name, f1macro, data_by_age.shape[0])\n",
    "    \n",
    "    N = data_by_age.shape[0]    \n",
    "    M = confusion_matrix(y_true, y_pred)\n",
    "    \n",
    "    # Recall\n",
    "    mr = M.astype(float)\n",
    "    mr[0] = mr[0]/np.sum(mr[0])\n",
    "    mr[1] = mr[1]/np.sum(mr[1])\n",
    "    #print(mr, '\\n')    \n",
    "    class1_R.append(mr[1][1])\n",
    "    class0_R.append(mr[0][0])\n",
    "    \n",
    "    # Precision\n",
    "    mp = M.astype(float)    \n",
    "    mp[:,0] = mp[:,0]/np.sum(mp[:,0])\n",
    "    mp[:,1] = mp[:,1]/np.sum(mp[:,1])\n",
    "    #print(mp, '\\n')    \n",
    "    class1_P.append(mp[1][1])\n",
    "    class0_P.append(mp[0][0])\n",
    "        \n",
    "    # Percentage group size for class 1\n",
    "    class1_percent.append((M[1][0] + M[1][1])/  np.sum(M[:,:]))\n",
    " "
   ]
  },
  {
   "cell_type": "code",
   "execution_count": 12,
   "id": "5917c58e",
   "metadata": {},
   "outputs": [
    {
     "data": {
      "image/png": "[encoded data removed]",
      "text/plain": [
       "<Figure size 720x288 with 1 Axes>"
      ]
     },
     "metadata": {},
     "output_type": "display_data"
    },
    {
     "data": {
      "text/plain": [
       "<Figure size 720x288 with 0 Axes>"
      ]
     },
     "metadata": {},
     "output_type": "display_data"
    }
   ],
   "source": [
    "data0 = class0_R\n",
    "data1 = class1_R\n",
    "    \n",
    "info_plot = { 'label0': '0-NO DEFAULT',\n",
    "    'label1': '1-DEFAULT',\n",
    "    'xlabel': \"Age Groups\",\n",
    "    'ylabel': \"Recall\",\n",
    "    'title' : \"Random Forest with Original dataset: Recall by Age groups\",\n",
    "    'txt_label': [(\"%s\\n%.02f\" % ( group_name_AGE[i], class1_percent[i])) for i in range(len(group_name_AGE))],\n",
    "    'path_to_save': 'random_forest_original_age_group.png',    \n",
    "}\n",
    "    \n",
    "plot_bar_by_feature_group(data0, data1, info_plot)"
   ]
  },
  {
   "cell_type": "markdown",
   "id": "f1eddffd",
   "metadata": {},
   "source": [
    "### Random Forest: SMOTE data"
   ]
  },
  {
   "cell_type": "code",
   "execution_count": 15,
   "id": "9c13c3b6",
   "metadata": {},
   "outputs": [
    {
     "data": {
      "text/plain": [
       "0.6897396419481328"
      ]
     },
     "execution_count": 15,
     "metadata": {},
     "output_type": "execute_result"
    }
   ],
   "source": [
    "forest_pipeline = make_pipeline(SMOTENC([1,2,3,5,6,7,8,9,10],random_state=42), forest)\n",
    "\n",
    "y_pred_forest_smote = cross_val_predict(forest_pipeline, X=features, y=label, cv=skf5, method='predict', n_jobs=5)\n",
    "\n",
    "metrics.f1_score(label, y_pred_forest_smote, average='macro') "
   ]
  },
  {
   "cell_type": "markdown",
   "id": "83e8106c",
   "metadata": {},
   "source": [
    "### Feature AGE Analyses "
   ]
  },
  {
   "cell_type": "code",
   "execution_count": 16,
   "id": "e5e9ccc0",
   "metadata": {},
   "outputs": [
    {
     "name": "stdout",
     "output_type": "stream",
     "text": [
      "Youth (<25) 0.701396808112275 2685\n",
      "Young Adults (25-34) 0.682040706081136 13011\n",
      "Adults (35-44) 0.6899022181871717 9018\n",
      "Adults+ (45-54) 0.6905895236705712 4233\n",
      "Seniors (55,64+) 0.7083469721767593 1053\n"
     ]
    }
   ],
   "source": [
    "data['y_pred_forest_smote'] = y_pred_forest_smote\n",
    "df = data\n",
    "\n",
    "class1_R = []\n",
    "class0_R = []\n",
    "class1_P = []\n",
    "class0_P = []\n",
    "class1_percent = []\n",
    "\n",
    "for name in group_name_AGE:     \n",
    "    data_by_age = df[df['AGE_GROUP']  == name]    \n",
    "    y_true = data_by_age['DEFAULT']\n",
    "    y_pred = data_by_age['y_pred_forest_smote']\n",
    "    \n",
    "    f1macro = metrics.f1_score(y_true, y_pred, average='macro')          \n",
    "    print(name, f1macro, data_by_age.shape[0])\n",
    "    \n",
    "    N = data_by_age.shape[0]    \n",
    "    M = confusion_matrix(y_true, y_pred)\n",
    "    \n",
    "    # Recall\n",
    "    mr = M.astype(float)\n",
    "    mr[0] = mr[0]/np.sum(mr[0])\n",
    "    mr[1] = mr[1]/np.sum(mr[1])\n",
    "    #print(mr, '\\n')    \n",
    "    class1_R.append(mr[1][1])\n",
    "    class0_R.append(mr[0][0])\n",
    "    \n",
    "    # Precision\n",
    "    mp = M.astype(float)    \n",
    "    mp[:,0] = mp[:,0]/np.sum(mp[:,0])\n",
    "    mp[:,1] = mp[:,1]/np.sum(mp[:,1])\n",
    "    #print(mp, '\\n')    \n",
    "    class1_P.append(mp[1][1])\n",
    "    class0_P.append(mp[0][0])\n",
    "        \n",
    "    # Percentage group size for class 1\n",
    "    class1_percent.append((M[1][0] + M[1][1])/  np.sum(M[:,:]))\n",
    " "
   ]
  },
  {
   "cell_type": "code",
   "execution_count": 17,
   "id": "2e8d54c1",
   "metadata": {},
   "outputs": [
    {
     "data": {
      "image/png": "[encoded data removed]",
      "text/plain": [
       "<Figure size 720x288 with 1 Axes>"
      ]
     },
     "metadata": {},
     "output_type": "display_data"
    },
    {
     "data": {
      "text/plain": [
       "<Figure size 720x288 with 0 Axes>"
      ]
     },
     "metadata": {},
     "output_type": "display_data"
    }
   ],
   "source": [
    "data0 = class0_R\n",
    "data1 = class1_R\n",
    "    \n",
    "info_plot = { 'label0': '0-NO DEFAULT',\n",
    "    'label1': '1-DEFAULT',\n",
    "    'xlabel': \"Age Groups\",\n",
    "    'ylabel': \"Recall\",\n",
    "    'title' : \"Random Forest with SMOTE dataset: Recall by Age groups\",\n",
    "    'txt_label': [(\"%s\\n%.02f\" % ( group_name_AGE[i], class1_percent[i])) for i in range(len(group_name_AGE))],\n",
    "    'path_to_save': 'random_forest_smote_age_group.png',    \n",
    "}\n",
    "    \n",
    "plot_bar_by_feature_group(data0, data1, info_plot)"
   ]
  },
  {
   "cell_type": "markdown",
   "id": "f777c2cb",
   "metadata": {},
   "source": [
    "## Checking the amount of TP, TN, FP and FN among agr groups"
   ]
  },
  {
   "cell_type": "code",
   "execution_count": 18,
   "id": "6f2248b9",
   "metadata": {},
   "outputs": [
    {
     "name": "stdout",
     "output_type": "stream",
     "text": [
      "3867 4081 4081 2769\n"
     ]
    }
   ],
   "source": [
    "TP_df =  data[(y_pred_forest_smote == label) & (label==1)]\n",
    "TN_df =  data[(y_pred_forest_smote == label) & (label==0)]\n",
    "FP_df =  data[(y_pred_forest_smote == 1) & (label==0)]\n",
    "FN_df =  data[(y_pred_forest_smote == 0) & (label==1)]\n",
    "print(TP_df.shape[0],FP_df.shape[0], FP_df.shape[0],FN_df.shape[0])"
   ]
  },
  {
   "cell_type": "code",
   "execution_count": 19,
   "id": "ef108644",
   "metadata": {},
   "outputs": [
    {
     "data": {
      "text/plain": [
       "Young Adults (25-34)    1487\n",
       "Adults (35-44)          1121\n",
       "Adults+ (45-54)          599\n",
       "Youth (<25)              481\n",
       "Seniors (55,64+)         179\n",
       "Name: AGE_GROUP, dtype: int64"
      ]
     },
     "execution_count": 19,
     "metadata": {},
     "output_type": "execute_result"
    }
   ],
   "source": [
    "TP_df['AGE_GROUP'].value_counts()"
   ]
  },
  {
   "cell_type": "code",
   "execution_count": 20,
   "id": "332f5844",
   "metadata": {},
   "outputs": [
    {
     "data": {
      "text/plain": [
       "Young Adults (25-34)    8636\n",
       "Adults (35-44)          5879\n",
       "Adults+ (45-54)         2624\n",
       "Youth (<25)             1523\n",
       "Seniors (55,64+)         621\n",
       "Name: AGE_GROUP, dtype: int64"
      ]
     },
     "execution_count": 20,
     "metadata": {},
     "output_type": "execute_result"
    }
   ],
   "source": [
    "TN_df['AGE_GROUP'].value_counts()"
   ]
  },
  {
   "cell_type": "code",
   "execution_count": 21,
   "id": "fff4711f",
   "metadata": {},
   "outputs": [
    {
     "data": {
      "text/plain": [
       "Young Adults (25-34)    1734\n",
       "Adults (35-44)          1168\n",
       "Adults+ (45-54)          596\n",
       "Youth (<25)              432\n",
       "Seniors (55,64+)         151\n",
       "Name: AGE_GROUP, dtype: int64"
      ]
     },
     "execution_count": 21,
     "metadata": {},
     "output_type": "execute_result"
    }
   ],
   "source": [
    "FP_df['AGE_GROUP'].value_counts()"
   ]
  },
  {
   "cell_type": "code",
   "execution_count": 22,
   "id": "8c5bbd7f",
   "metadata": {},
   "outputs": [
    {
     "data": {
      "text/plain": [
       "Young Adults (25-34)    1154\n",
       "Adults (35-44)           850\n",
       "Adults+ (45-54)          414\n",
       "Youth (<25)              249\n",
       "Seniors (55,64+)         102\n",
       "Name: AGE_GROUP, dtype: int64"
      ]
     },
     "execution_count": 22,
     "metadata": {},
     "output_type": "execute_result"
    }
   ],
   "source": [
    "FN_df['AGE_GROUP'].value_counts()"
   ]
  },
  {
   "cell_type": "markdown",
   "id": "b9d93135",
   "metadata": {},
   "source": [
    "### Feature PAY_0 Analyses "
   ]
  },
  {
   "cell_type": "code",
   "execution_count": 24,
   "id": "fdfe645a",
   "metadata": {},
   "outputs": [
    {
     "name": "stdout",
     "output_type": "stream",
     "text": [
      "VALUE=-2 F1macro=0.55 AmountSample=2759\n",
      "VALUE=-1 F1macro=0.59 AmountSample=5686\n",
      "VALUE=0 F1macro=0.55 AmountSample=14737\n",
      "VALUE=1 F1macro=0.52 AmountSample=3688\n",
      "VALUE=2 F1macro=0.44 AmountSample=2667\n",
      "VALUE=3 F1macro=0.43 AmountSample=322\n",
      "VALUE=4 F1macro=0.41 AmountSample=76\n",
      "VALUE=5 F1macro=0.33 AmountSample=26\n",
      "VALUE=6 F1macro=0.35 AmountSample=11\n",
      "VALUE=7 F1macro=0.44 AmountSample=9\n",
      "VALUE=8 F1macro=0.37 AmountSample=19\n"
     ]
    }
   ],
   "source": [
    "\n",
    "feature_name = 'PAY_0'\n",
    "new_feature_name = 'PAY_0_GROUP'\n",
    "\n",
    "#group_range_PAY_0 = [ (bins[i],bins[i+1]) for i in range(len(bins)-1)]\n",
    "#group_name_PAY_0 = ([\"(%.03f,%.02f)\" % (bins[i],bins[i+1]) for i in range(len(bins)-1)])\n",
    "#data = add_group_feature(data, feature_name, new_feature_name, group_name_AGE, group_range_AGE)\n",
    "\n",
    "group_name_PAY_0 =  [ str(value) for value in np.sort(data['PAY_0'].unique())]\n",
    "\n",
    "\n",
    "df = data\n",
    "\n",
    "class1_R = []\n",
    "class0_R = []\n",
    "class1_P = []\n",
    "class0_P = []\n",
    "class1_percent = []\n",
    "\n",
    "for value in np.sort(data['PAY_0'].unique()):     \n",
    "    data_by_PAY_0 = df[df['PAY_0']  == value]\n",
    "    \n",
    "    y_true = data_by_PAY_0['DEFAULT']\n",
    "    y_pred = data_by_PAY_0['y_pred_forest_smote']\n",
    "    \n",
    "    f1macro = metrics.f1_score(y_true, y_pred, average='macro')          \n",
    "    print('VALUE=%d F1macro=%0.2f AmountSample=%d'% (value, f1macro, data_by_PAY_0.shape[0]))\n",
    "    \n",
    "    N = data_by_PAY_0.shape[0]    \n",
    "    M = confusion_matrix(y_true, y_pred)\n",
    "    \n",
    "    #print(M)\n",
    "    # Recall\n",
    "    mr = M.astype(float)\n",
    "    mr[0] = mr[0]/np.sum(mr[0])\n",
    "    mr[1] = mr[1]/np.sum(mr[1])\n",
    "    #print(mr, '\\n')    \n",
    "    class1_R.append(mr[1][1])\n",
    "    class0_R.append(mr[0][0])\n",
    "    \n",
    "    # Precision\n",
    "    mp = M.astype(float)    \n",
    "    mp[:,0] = mp[:,0]/np.sum(mp[:,0]) if np.sum(mp[:,0])!=0 else 1\n",
    "    mp[:,1] = mp[:,1]/np.sum(mp[:,1]) if np.sum(mp[:,0])!=0 else 1\n",
    "    #print(mp, '\\n')    \n",
    "    class1_P.append(mp[1][1])\n",
    "    class0_P.append(mp[0][0])\n",
    "        \n",
    "    # Percentage group size for class 1\n",
    "    class1_percent.append((M[1][0] + M[1][1])/  np.sum(M[:,:]))\n",
    " "
   ]
  },
  {
   "cell_type": "code",
   "execution_count": 26,
   "id": "9b1894b1",
   "metadata": {},
   "outputs": [
    {
     "data": {
      "image/png": "[encoded data removed]",
      "text/plain": [
       "<Figure size 720x288 with 1 Axes>"
      ]
     },
     "metadata": {},
     "output_type": "display_data"
    },
    {
     "data": {
      "text/plain": [
       "<Figure size 720x288 with 0 Axes>"
      ]
     },
     "metadata": {},
     "output_type": "display_data"
    }
   ],
   "source": [
    "data0 = class0_R\n",
    "data1 = class1_R\n",
    "\n",
    "info_plot = { 'label0': '0-NO DEFAULT',\n",
    "    'label1': '1-DEFAULT',\n",
    "    'xlabel': \"PAY_0 Groups\",\n",
    "    'ylabel': \"Recall\",\n",
    "    'title' : \"Random Forest with SMOTE dataset: Recall by PAY_0 groups\",\n",
    "    'txt_label': [(\"%s\\n%.02f\" % ( group_name_PAY_0[i], class1_percent[i])) for i in range(len(group_name_PAY_0))],\n",
    "    'path_to_save': 'random_forest_smote_pay0_group.png',    \n",
    "} \n",
    "plot_bar_by_feature_group(data0, data1, info_plot)"
   ]
  }
 ],
 "metadata": {
  "kernelspec": {
   "display_name": "Python 3",
   "language": "python",
   "name": "python3"
  },
  "language_info": {
   "codemirror_mode": {
    "name": "ipython",
    "version": 3
   },
   "file_extension": ".py",
   "mimetype": "text/x-python",
   "name": "python",
   "nbconvert_exporter": "python",
   "pygments_lexer": "ipython3",
   "version": "3.8.8"
  }
 },
 "nbformat": 4,
 "nbformat_minor": 5
}
